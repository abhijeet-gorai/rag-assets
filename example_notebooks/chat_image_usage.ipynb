{
 "cells": [
  {
   "cell_type": "markdown",
   "id": "98f80c65",
   "metadata": {},
   "source": [
    "# ChatWithImage Module Usage Notebook\n",
    "\n",
    "This notebook demonstrates how to use the `ChatWithImage` module to interact with a vision LLM.\n",
    "\n",
    "**Prerequisites:**\n",
    "- Install required packages\n",
    "- Set the required environment variables (`GRPQ_APIKEY`), or pass them during initialization.\n",
    "\n",
    "**Overview:**\n",
    "- Initialize the `ChatWithImage` instance.\n",
    "- Send a text prompt with or without an image.\n",
    "- Use session-based chat to maintain conversation history.\n",
    "- Stream tokens (if desired) from the LLM.\n",
    "- Clear session history when needed.\n",
    "\n",
    "Replace placeholder values with your actual credentials and file paths as required."
   ]
  },
  {
   "cell_type": "markdown",
   "id": "ef43d75e",
   "metadata": {},
   "source": [
    "If you have the environment variables setup in .env file, you can load them using load_dotenv"
   ]
  },
  {
   "cell_type": "code",
   "execution_count": null,
   "id": "24373d81",
   "metadata": {},
   "outputs": [],
   "source": [
    "import sys\n",
    "import os\n",
    "from dotenv import load_dotenv\n",
    "load_dotenv()"
   ]
  },
  {
   "cell_type": "markdown",
   "id": "1378f9be",
   "metadata": {},
   "source": [
    "Optionally, set GROQ credentials here if they are not already set as environment variables."
   ]
  },
  {
   "cell_type": "code",
   "execution_count": null,
   "id": "fb80f425",
   "metadata": {
    "title": "[code]"
   },
   "outputs": [],
   "source": [
    "# os.environ[\"GROQ_APIKEY\"] = \"<your-groq-apikey>\""
   ]
  },
  {
   "cell_type": "code",
   "execution_count": null,
   "id": "79acdb0d",
   "metadata": {},
   "outputs": [],
   "source": [
    "# Add the parent directory to sys.path\n",
    "parent_dir = os.path.abspath(os.path.join(os.getcwd(), \"..\"))\n",
    "if parent_dir not in sys.path:\n",
    "    sys.path.insert(0, parent_dir)"
   ]
  },
  {
   "cell_type": "markdown",
   "id": "7550c285",
   "metadata": {},
   "source": [
    "## 1. Initialize ChatWithImage\n",
    "\n",
    "Import the module `ChatWithImage` and create an instance. You can customize the model parameters if needed."
   ]
  },
  {
   "cell_type": "code",
   "execution_count": null,
   "id": "7d22a8c3",
   "metadata": {
    "title": "[code]"
   },
   "outputs": [],
   "source": [
    "from utils.chat_image import ChatWithImage"
   ]
  },
  {
   "cell_type": "code",
   "execution_count": null,
   "id": "9f74a8e9",
   "metadata": {},
   "outputs": [],
   "source": [
    "# Create a ChatWithImage instance.\n",
    "chat_client = ChatWithImage(\n",
    "    model_id=\"meta-llama/llama-4-maverick-17b-128e-instruct\",\n",
    "    max_tokens=1000,\n",
    "    temperature=0\n",
    ")\n",
    "print(\"ChatWithImage client initialized!\")"
   ]
  },
  {
   "cell_type": "markdown",
   "id": "c3ca7c09",
   "metadata": {},
   "source": [
    "## 2. Chat without an Image (Text Only)\n",
    "\n",
    "Use the `chat_with_image` method to send a text prompt.\n",
    "\n",
    "If you do not provide a `session_id`, the conversation will be stateless (each call is independent)."
   ]
  },
  {
   "cell_type": "code",
   "execution_count": null,
   "id": "fc733bab",
   "metadata": {
    "title": "[code]"
   },
   "outputs": [],
   "source": [
    "prompt_text = \"Tell me about LLM in 1 sentence\"\n",
    "response = chat_client.chat_with_image(prompt=prompt_text)\n",
    "print(\"Response:\", response)"
   ]
  },
  {
   "cell_type": "markdown",
   "id": "e8c16893",
   "metadata": {},
   "source": [
    "## 3. Chat with an Image\n",
    "\n",
    "You can provide an image along with your prompt. Pass the image either as a file path, base64 or as a PIL image.\n",
    "\n",
    "**Note:** The first time you send an image in a session, it is accepted; subsequent calls in the same session will raise an error if another image is provided.\n",
    "\n",
    "In this example, we use an image file."
   ]
  },
  {
   "cell_type": "code",
   "execution_count": null,
   "id": "1edce536",
   "metadata": {
    "title": "[code]"
   },
   "outputs": [],
   "source": [
    "image_path_1 = \"../data/infographic.jpeg\"\n",
    "image_path_2 = \"../data/infographic2.jpeg\"\n",
    "prompt_with_image = \"How much time do we spend sleeping in our lifetime?\"\n",
    "# Here, we do not pass a session_id so the chat is stateless.\n",
    "response_with_image = chat_client.chat_with_image(prompt=prompt_with_image, images=[image_path_1, image_path_2], convert_images_to_base64=True)\n",
    "print(\"Response with image:\", response_with_image)"
   ]
  },
  {
   "cell_type": "markdown",
   "id": "abb9e264",
   "metadata": {},
   "source": [
    "## 4. Maintaining Session History\n",
    "\n",
    "When interacting with the model over multiple turns, you can provide a `session_id` to maintain conversation history.\n",
    "\n",
    "In the first call, you can also provide a system message (only allowed in the first message).\n",
    "Subsequent messages in the same session should not include a system message."
   ]
  },
  {
   "cell_type": "code",
   "execution_count": null,
   "id": "b0dc2995",
   "metadata": {
    "title": "[code]"
   },
   "outputs": [],
   "source": [
    "session_id = \"my_chat_session\"\n",
    "\n",
    "# First message with a system prompt and optionally an image.\n",
    "system_msg = \"You are a helpful assistant that can also analyze images.\"\n",
    "first_prompt = \"How much time do we spend doing chores in our lifetime?\"\n",
    "first_response = chat_client.chat_with_image(\n",
    "    prompt=first_prompt,\n",
    "    images=[image_path_1, image_path_2],\n",
    "    system_message=system_msg,\n",
    "    session_id=session_id,\n",
    "    convert_images_to_base64=True\n",
    ")\n",
    "print(\"First response (with session):\", first_response)"
   ]
  },
  {
   "cell_type": "code",
   "execution_count": null,
   "id": "33cae3fa",
   "metadata": {},
   "outputs": [],
   "source": [
    "# Next message in the same session (without system message and image).\n",
    "followup_prompt = \"Summarize the contents of both the images\"\n",
    "followup_response = chat_client.chat_with_image(\n",
    "    prompt=followup_prompt,\n",
    "    session_id=session_id\n",
    ")\n",
    "print(\"Follow-up response (with session):\", followup_response)"
   ]
  },
  {
   "cell_type": "markdown",
   "id": "76393756",
   "metadata": {},
   "source": [
    "## 5. Streaming Tokens\n",
    "\n",
    "To stream tokens as they are generated (instead of waiting for the full response), set the `stream` parameter to `True`.\n",
    "\n",
    "When streaming, the method returns an iterator over token chunks."
   ]
  },
  {
   "cell_type": "code",
   "execution_count": null,
   "id": "c7e54b99",
   "metadata": {
    "title": "[code]"
   },
   "outputs": [],
   "source": [
    "session_id_2 = \"session2\"\n",
    "\n",
    "print(\"Streaming response:\")\n",
    "stream_iterator = chat_client.chat_with_image(\n",
    "    prompt=\"Please describe the image in detail.\",\n",
    "    stream=True,\n",
    "    images=[image_path_1],\n",
    "    session_id=session_id_2\n",
    ")\n",
    "\n",
    "for token in stream_iterator:\n",
    "    print(token.content, end=\"\")"
   ]
  },
  {
   "cell_type": "markdown",
   "id": "ca89e9f5",
   "metadata": {},
   "source": [
    "## 6. Retrieve Chat History\n",
    "\n",
    "Use `get_chat_history` to fetch the conversation history for a specific session, and\n",
    "`get_all_session_chat_history` to retrieve histories for all sessions."
   ]
  },
  {
   "cell_type": "code",
   "execution_count": null,
   "id": "0cbec022",
   "metadata": {},
   "outputs": [],
   "source": [
    "# Retrieve chat history for a specific session.\n",
    "history = chat_client.get_chat_history(session_id)\n",
    "print(f\"Chat history for session '{session_id}':\")\n",
    "history"
   ]
  },
  {
   "cell_type": "code",
   "execution_count": null,
   "id": "f1a2dcc9",
   "metadata": {},
   "outputs": [],
   "source": [
    "# Retrieve chat histories for all sessions.\n",
    "all_histories = chat_client.get_all_session_chat_history()\n",
    "print(\"\\nAll session chat histories:\")\n",
    "all_histories"
   ]
  },
  {
   "cell_type": "markdown",
   "id": "7cce8d95",
   "metadata": {},
   "source": [
    "## 6. Clearing Session History\n",
    "\n",
    "If you wish to clear the conversation history for a given session (or all sessions), you can do so."
   ]
  },
  {
   "cell_type": "code",
   "execution_count": null,
   "id": "9c3fee9d",
   "metadata": {},
   "outputs": [],
   "source": [
    "# Clear a specific session history.\n",
    "chat_client.clear_session_history(session_id)\n",
    "print(f\"Session history for '{session_id}' cleared.\")"
   ]
  },
  {
   "cell_type": "code",
   "execution_count": null,
   "id": "0f497119",
   "metadata": {
    "title": "[code]"
   },
   "outputs": [],
   "source": [
    "# Clear all session histories.\n",
    "chat_client.clear_all_session_histories()\n",
    "print(\"All session histories cleared.\")"
   ]
  },
  {
   "cell_type": "code",
   "execution_count": null,
   "id": "5564c308",
   "metadata": {},
   "outputs": [],
   "source": [
    "# Check chat histories after clearing all session histories to verify all sessions have been cleared\n",
    "all_histories = chat_client.get_all_session_chat_history()\n",
    "print(\"\\nAll session chat histories:\")\n",
    "all_histories"
   ]
  },
  {
   "cell_type": "markdown",
   "id": "0e481dee",
   "metadata": {},
   "source": [
    "# End of ChatWithImage Module Usage Notebook\n",
    "\n",
    "This guide demonstrated:\n",
    "- Initializing the ChatWithImage client.\n",
    "- Chatting with text only or with an image.\n",
    "- Maintaining conversation history with session ids.\n",
    "- Streaming responses token-by-token.\n",
    "- Retrieve session histories.\n",
    "- Clearing session histories.\n",
    "\n",
    "Modify parameters and prompts as needed for your application."
   ]
  }
 ],
 "metadata": {
  "jupytext": {
   "cell_metadata_filter": "title,-all",
   "main_language": "python",
   "notebook_metadata_filter": "-all"
  },
  "kernelspec": {
   "display_name": ".venv",
   "language": "python",
   "name": "python3"
  },
  "language_info": {
   "codemirror_mode": {
    "name": "ipython",
    "version": 3
   },
   "file_extension": ".py",
   "mimetype": "text/x-python",
   "name": "python",
   "nbconvert_exporter": "python",
   "pygments_lexer": "ipython3",
   "version": "3.12.10"
  }
 },
 "nbformat": 4,
 "nbformat_minor": 5
}
