{
 "cells": [
  {
   "cell_type": "markdown",
   "id": "766f36c5",
   "metadata": {},
   "source": [
    "# RAGFusion Module Usage Notebook\n",
    "\n",
    "This notebook demonstrates how to use the `RAGFusion` module for Retrieval-Augmented Generation (RAG).\n",
    "\n",
    "**Overview:**\n",
    "- Load configuration parameters from a YAML file (`config.yaml`).\n",
    "- Initialize the `RAGFusion` pipeline.\n",
    "- Add documents (PDFs or DOCX files) into the vector database.\n",
    "- Retrieve relevant document context based on a query.\n",
    "- Generate a complete answer or stream an answer.\n",
    "\n",
    "**Prerequisites:**\n",
    "- Install required packages\n",
    "- Ensure your document files (PDFs, DOCX) are available.\n",
    "\n",
    "Below is an example `config.yaml` file:\n",
    "\n",
    "```yaml\n",
    "llm:\n",
    "    model_id: \"meta-llama/llama-4-scout-17b-16e-instruct\"\n",
    "    max_tokens: 500\n",
    "    temperature: 0\n",
    "    top_p: 0.1\n",
    "    stop_sequences: []\n",
    "vector_db:\n",
    "    embedding_modelname: \"intfloat/multilingual-e5-small\"\n",
    "    collection_name: \"chroma_collection_rag_fusion\"\n",
    "    persist_directory: \"./chroma_db\"\n",
    "chunking:\n",
    "    chunk_size: 512\n",
    "    chunk_overlap: 50\n",
    "    separators: [\"\\n\\n\", \" \"]\n",
    "file_reader:\n",
    "    pdf:\n",
    "        pdfloader: \"PYMUPDF\"\n",
    "    docx:\n",
    "        docxloader: \"python-docx\"\n",
    "```"
   ]
  },
  {
   "cell_type": "markdown",
   "id": "5f0023e9",
   "metadata": {},
   "source": [
    "Also, ensure that you have set your GROQ credentials as environment variables.\n",
    "\n",
    "If you have the environment variables setup in .env file, you can load them using load_dotenv"
   ]
  },
  {
   "cell_type": "code",
   "execution_count": null,
   "id": "462782ae",
   "metadata": {},
   "outputs": [],
   "source": [
    "import sys\n",
    "import os\n",
    "from dotenv import load_dotenv\n",
    "load_dotenv()"
   ]
  },
  {
   "cell_type": "markdown",
   "id": "076f5fac",
   "metadata": {},
   "source": [
    "Optionally, set your GROQ credentials here if they are not already set as environment variables."
   ]
  },
  {
   "cell_type": "code",
   "execution_count": null,
   "id": "2ff8b941",
   "metadata": {},
   "outputs": [],
   "source": [
    "# os.environ[\"GROQ_APIKEY\"] = \"<your-groq-api-key>\""
   ]
  },
  {
   "cell_type": "code",
   "execution_count": 3,
   "id": "f533adf2",
   "metadata": {},
   "outputs": [],
   "source": [
    "# Add the parent directory to sys.path\n",
    "parent_dir = os.path.abspath(os.path.join(os.getcwd(), \"..\"))\n",
    "if parent_dir not in sys.path:\n",
    "    sys.path.insert(0, parent_dir)"
   ]
  },
  {
   "cell_type": "markdown",
   "id": "58c0cd5f",
   "metadata": {},
   "source": [
    "### Load configuration from the YAML file."
   ]
  },
  {
   "cell_type": "code",
   "execution_count": null,
   "id": "c8864bda",
   "metadata": {
    "title": "[code]"
   },
   "outputs": [],
   "source": [
    "import yaml\n",
    "\n",
    "with open(\"../rag_pipelines/rag_fusion/config.yaml\", \"r\") as f:\n",
    "    config = yaml.safe_load(f)\n",
    "\n",
    "print(\"Configuration loaded:\")\n",
    "config"
   ]
  },
  {
   "cell_type": "markdown",
   "id": "dde73b2b",
   "metadata": {},
   "source": [
    "## Initialize the RAGFusion Pipeline\n",
    "\n",
    "The RAGFusion module uses the configuration to set up the language model and vector database."
   ]
  },
  {
   "cell_type": "code",
   "execution_count": 5,
   "id": "ed674c72",
   "metadata": {},
   "outputs": [],
   "source": [
    "from rag_pipelines.rag_fusion import RAGFusion"
   ]
  },
  {
   "cell_type": "code",
   "execution_count": null,
   "id": "545af2c4",
   "metadata": {
    "title": "[code]"
   },
   "outputs": [],
   "source": [
    "# Initialize the pipeline with the configuration dictionary.\n",
    "rag_pipeline = RAGFusion(config)\n",
    "print(\"RAGFusion pipeline initialized!\")"
   ]
  },
  {
   "cell_type": "markdown",
   "id": "99ab291e",
   "metadata": {},
   "source": [
    "## Add Documents\n",
    "\n",
    "Use the `add_documents` method to load and process documents into the vector database.\n",
    "\n",
    "Provide a list of file paths (e.g., PDFs or DOCX files)."
   ]
  },
  {
   "cell_type": "code",
   "execution_count": null,
   "id": "0dda6774",
   "metadata": {
    "title": "[code]"
   },
   "outputs": [],
   "source": [
    "document_files = [\"../data/wxA Actions and basic IAM.PDF\", \"../data/wxA Custom Extensions.PDF\"]\n",
    "\n",
    "rag_pipeline.add_documents(document_files)\n",
    "print(\"Documents added successfully to the vector database.\")"
   ]
  },
  {
   "cell_type": "markdown",
   "id": "c21c5924",
   "metadata": {},
   "source": [
    "## Retrieve Relevant Context and Generate Answer using get_answer\n",
    "\n",
    "In this cell, we first retrieve and fuse relevant documents for the given query by generating related queries and applying reciprocal rank fusion using the `get_context` method.\n",
    "\n",
    "Then we use these documents together with the query to generate an answer via the `get_answer` method.\n"
   ]
  },
  {
   "cell_type": "code",
   "execution_count": null,
   "id": "f96f8fa9",
   "metadata": {
    "title": "[code]"
   },
   "outputs": [],
   "source": [
    "query = \"What are custom extensions?\"\n",
    "relevant_docs = rag_pipeline.get_context(query, k=4)\n",
    "relevant_docs"
   ]
  },
  {
   "cell_type": "code",
   "execution_count": null,
   "id": "3c429ab6",
   "metadata": {},
   "outputs": [],
   "source": [
    "# Generate an answer using get_answer with the query and retrieved documents.\n",
    "answer_response = rag_pipeline.get_answer(query, relevant_docs)\n",
    "print(\"Generated Answer:\")\n",
    "print(answer_response.content)"
   ]
  },
  {
   "cell_type": "markdown",
   "id": "35770833",
   "metadata": {},
   "source": [
    "## Generate an Answer with a Single Method Call using respond_to_query\n",
    "\n",
    "Use the `respond_to_query` method to generate a complete answer using the retrieved documents.\n",
    "This method returns both the generated answer and the list of documents used.\n",
    "\n",
    "The `respond_to_query` method combines both the retrieval of relevant context and answer generation into one step.\n",
    "This means you don't have to call `get_context` and `get_answer` separately."
   ]
  },
  {
   "cell_type": "code",
   "execution_count": null,
   "id": "e895c575",
   "metadata": {
    "title": "[code]"
   },
   "outputs": [],
   "source": [
    "answer, relevant_docs = rag_pipeline.respond_to_query(query, k=4)\n",
    "print(\"Generated Answer:\")\n",
    "print(answer.content)"
   ]
  },
  {
   "cell_type": "markdown",
   "id": "53fbb34b",
   "metadata": {},
   "source": [
    "## Stream Answer\n",
    "\n",
    "Alternatively, you can stream the answer token-by-token using the `stream_answer` method.\n",
    "This example iterates over token chunks to get the full response."
   ]
  },
  {
   "cell_type": "code",
   "execution_count": null,
   "id": "6f2b4662",
   "metadata": {
    "title": "[code]"
   },
   "outputs": [],
   "source": [
    "print(\"Streaming answer:\")\n",
    "stream_iterator = rag_pipeline.stream_answer(query, k=4)\n",
    "for token_chunk in stream_iterator:\n",
    "    print(token_chunk.content, end=\"\")"
   ]
  },
  {
   "cell_type": "markdown",
   "id": "f9d512bd",
   "metadata": {},
   "source": [
    "# End of RAGFusion Module Usage Notebook\n",
    "\n",
    "In this notebook, we demonstrated:\n",
    "- Reading configuration from a YAML file.\n",
    "- Initializing the RAGFusion pipeline.\n",
    "- Adding documents to the vector database.\n",
    "- Retrieving relevant context for a query.\n",
    "- Generating a complete answer and streaming the answer.\n",
    "\n",
    "Adjust file paths, query text, and configuration parameters as needed."
   ]
  }
 ],
 "metadata": {
  "jupytext": {
   "cell_metadata_filter": "title,-all",
   "main_language": "python",
   "notebook_metadata_filter": "-all"
  },
  "kernelspec": {
   "display_name": ".venv",
   "language": "python",
   "name": "python3"
  },
  "language_info": {
   "codemirror_mode": {
    "name": "ipython",
    "version": 3
   },
   "file_extension": ".py",
   "mimetype": "text/x-python",
   "name": "python",
   "nbconvert_exporter": "python",
   "pygments_lexer": "ipython3",
   "version": "3.12.10"
  }
 },
 "nbformat": 4,
 "nbformat_minor": 5
}
